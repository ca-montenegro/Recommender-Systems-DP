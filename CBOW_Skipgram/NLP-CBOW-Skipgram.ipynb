{
 "cells": [
  {
   "cell_type": "markdown",
   "metadata": {
    "colab_type": "text",
    "id": "tr03aDIOR_Px"
   },
   "source": [
    "# Eindhoven University of Technology. Mathematics & Computer Science\n",
    "## Data Science Master track\n",
    "## Recommender Systems\n",
    "Lecturer: Dr. Vlado Menkovski\n",
    "- Franziska Boenisch\n",
    "- Adriano Cardace \n",
    "- Camilo Montenegro Hernandez\n",
    "\n",
    " \n"
   ]
  },
  {
   "cell_type": "markdown",
   "metadata": {
    "colab_type": "text",
    "id": "aF-Y5HwsR_P3"
   },
   "source": [
    "### Word embeddings\n",
    "Build embeddings with a keras implementation where the embedding vector is of length 50, 150 and 300. Use the Alice in Wonderland text book for training.\n",
    "1. Using the Skipgram model\n",
    "2. Using CBOW model\n",
    "3. Analyze the different word embeddings\n",
    "    - Implement your own function to perform the analogy task with. Do not use existing libraries for this task such as Gensim. Your function should be able to answer whether an anaology as in the example given in the pdf-file is true.\n",
    "    - Compare the performance on the analogy task between the word embeddings\n",
    "    - Visualize your results and interpret your results\n",
    "4. Discuss:\n",
    "    - What are the main advantages of CBOW and Skipgram?\n",
    "    - What are the main drawbacks of CBOW and Skipgram?\n"
   ]
  },
  {
   "cell_type": "code",
   "execution_count": null,
   "metadata": {
    "colab": {},
    "colab_type": "code",
    "id": "yT-SAwchR_P6"
   },
   "outputs": [],
   "source": [
    "import numpy as np\n",
    "np.random.seed(13) #TODO Check if this is used for sgd\n",
    "import keras.backend as K\n",
    "from keras.models import Sequential\n",
    "from keras.layers import Dense, Embedding, Reshape, Lambda\n",
    "from keras.utils import np_utils\n",
    "from keras.utils.data_utils import get_file\n",
    "from keras.preprocessing.text import Tokenizer\n",
    "from keras.utils.vis_utils import model_to_dot\n",
    "from keras.preprocessing import sequence\n",
    "from gensim.models import KeyedVectors\n",
    "from sklearn.manifold import TSNE\n",
    "from sklearn.metrics.pairwise import cosine_similarity\n",
    "from sklearn.neighbors import NearestNeighbors as nn\n",
    "from itertools import islice\n",
    "from matplotlib import pylab\n",
    "from __future__ import division\n",
    "from sklearn.metrics.pairwise import cosine_distances\n",
    "import operator"
   ]
  },
  {
   "cell_type": "code",
   "execution_count": null,
   "metadata": {
    "colab": {},
    "colab_type": "code",
    "id": "DgEy9MDSR_QF"
   },
   "outputs": [],
   "source": [
    "# DO NOT Modify the lines in this cell\n",
    "path = 'alice.txt'\n",
    "corpus = open(path).readlines()\n",
    "\n",
    "corpus = [sentence for sentence in corpus if sentence.count(\" \") >= 2]\n",
    "\n",
    "tokenizer = Tokenizer(filters='!\"#$%&()*+,-./:;<=>?@[\\\\]^_`{|}~\\t\\n'+\"'\")\n",
    "tokenizer.fit_on_texts(corpus)\n",
    "corpus = tokenizer.texts_to_sequences(corpus)\n",
    "nb_samples = sum(len(s) for s in corpus)\n",
    "V = len(tokenizer.word_index) + 1\n",
    "\n",
    "# Is this something they need to change?\n",
    "#dim = 100\n",
    "dims = [50,150,300]\n",
    "window_size = 2\n",
    "# window_size_corpus = 4"
   ]
  },
  {
   "cell_type": "markdown",
   "metadata": {
    "colab_type": "text",
    "id": "ufJD_lxXieFL"
   },
   "source": [
    "# Skipgram"
   ]
  },
  {
   "cell_type": "code",
   "execution_count": null,
   "metadata": {
    "colab": {},
    "colab_type": "code",
    "id": "6AiY-y48R_QQ"
   },
   "outputs": [],
   "source": [
    "#prepare data for skipgram\n",
    "def generate_data_skipgram(corpus, window_size, V):\n",
    "  trainPairs = []\n",
    "  # iterate over all sentences to build the training pairs\n",
    "  for sentence in corpus:\n",
    "    # let every word from the sentence be the center word\n",
    "    for center_word_pos in range(len(sentence)):\n",
    "        # get the index of the word within the entire corpus, not only sentence\n",
    "        center_word_idx = sentence[center_word_pos]\n",
    "        # take the words within the window size as context\n",
    "        for w in range(-window_size, window_size + 1):\n",
    "            # position of the content word\n",
    "            context_word_pos = center_word_pos + w\n",
    "            # make soure not jump outside of a sentence\n",
    "            if context_word_pos < 0 or context_word_pos >= len(sentence) or center_word_pos == context_word_pos:\n",
    "                continue\n",
    "            # get the index of the word within the entire corpus, not only sentence\n",
    "            context_word_idx = sentence[context_word_pos]\n",
    "            # add word and context to the training pairs\n",
    "            trainPairs.append((center_word_idx, context_word_idx))\n",
    "\n",
    "  # initialize empty lists\n",
    "  x=[]\n",
    "  y=[]\n",
    "  all_outY = []\n",
    "  # iterate over all training pairs\n",
    "  for pair in trainPairs:\n",
    "    # for the one hot encoding\n",
    "    all_outY = np_utils.to_categorical(pair[1],V)\n",
    "    # append the word and the one hot encoding\n",
    "    x.append(pair[0])\n",
    "    y.append(all_outY)\n",
    "    \n",
    "  # return the word and the matrix with shape (number of train pairs * vocab size)\n",
    "  return np.array(x) , np.array(y).reshape(-1, V)   "
   ]
  },
  {
   "cell_type": "code",
   "execution_count": null,
   "metadata": {
    "colab": {},
    "colab_type": "code",
    "id": "OiTP_2HwR_Qa"
   },
   "outputs": [],
   "source": [
    "#training data\n",
    "x,y = generate_data_skipgram(corpus,window_size,V)"
   ]
  },
  {
   "cell_type": "code",
   "execution_count": null,
   "metadata": {
    "colab": {
     "base_uri": "https://localhost:8080/",
     "height": 746
    },
    "colab_type": "code",
    "id": "pdSMwdtWR_Q3",
    "outputId": "38ee6223-2642-4558-8890-28f5a0d57785"
   },
   "outputs": [
    {
     "name": "stdout",
     "output_type": "stream",
     "text": [
      "Skipgram model with dimensions: 50\n",
      "_________________________________________________________________\n",
      "Layer (type)                 Output Shape              Param #   \n",
      "=================================================================\n",
      "embedding_10 (Embedding)     (None, 1, 50)             127850    \n",
      "_________________________________________________________________\n",
      "reshape_4 (Reshape)          (None, 50)                0         \n",
      "_________________________________________________________________\n",
      "dense_10 (Dense)             (None, 2557)              130407    \n",
      "=================================================================\n",
      "Total params: 258,257\n",
      "Trainable params: 258,257\n",
      "Non-trainable params: 0\n",
      "_________________________________________________________________\n",
      "Skipgram model with dimensions: 150\n",
      "_________________________________________________________________\n",
      "Layer (type)                 Output Shape              Param #   \n",
      "=================================================================\n",
      "embedding_11 (Embedding)     (None, 1, 150)            383550    \n",
      "_________________________________________________________________\n",
      "reshape_5 (Reshape)          (None, 150)               0         \n",
      "_________________________________________________________________\n",
      "dense_11 (Dense)             (None, 2557)              386107    \n",
      "=================================================================\n",
      "Total params: 769,657\n",
      "Trainable params: 769,657\n",
      "Non-trainable params: 0\n",
      "_________________________________________________________________\n",
      "Skipgram model with dimensions: 300\n",
      "_________________________________________________________________\n",
      "Layer (type)                 Output Shape              Param #   \n",
      "=================================================================\n",
      "embedding_12 (Embedding)     (None, 1, 300)            767100    \n",
      "_________________________________________________________________\n",
      "reshape_6 (Reshape)          (None, 300)               0         \n",
      "_________________________________________________________________\n",
      "dense_12 (Dense)             (None, 2557)              769657    \n",
      "=================================================================\n",
      "Total params: 1,536,757\n",
      "Trainable params: 1,536,757\n",
      "Non-trainable params: 0\n",
      "_________________________________________________________________\n"
     ]
    }
   ],
   "source": [
    "#create Skipgram model\n",
    "\n",
    "skipgramsModels = []\n",
    "for dim in dims:\n",
    "  print(\"Skipgram model with dimensions:\",dim)\n",
    "  skipgram = Sequential()\n",
    "  #if you use embedding (instead of dense layer) input doesn't have to be one hot encoded\n",
    "  skipgram.add(Embedding(V, dim, input_length=1, embeddings_initializer='glorot_uniform')) \n",
    "  # respape the output of the embedding layer\n",
    "  skipgram.add(Reshape((dim, )))\n",
    "  skipgram.add(Dense(V, activation='softmax', kernel_initializer='uniform'))\n",
    "\n",
    "  # compile the model\n",
    "  skipgram.compile(loss='categorical_crossentropy', optimizer='adadelta')\n",
    "  skipgram.summary()\n",
    "  skipgramsModels.append(skipgram)\n",
    "\n",
    "  # show model\n",
    "  #from IPython.display import SVG\n",
    "  #from keras.utils.vis_utils import model_to_dot\n",
    "\n",
    "  #SVG(model_to_dot(skipgram, show_shapes=True, show_layer_names=False, \n",
    "  #                 rankdir='TB').create(prog='dot', format='svg'))\n",
    "  \n",
    "\n"
   ]
  },
  {
   "cell_type": "code",
   "execution_count": null,
   "metadata": {
    "colab": {
     "base_uri": "https://localhost:8080/",
     "height": 1111
    },
    "colab_type": "code",
    "id": "4Mzfx8UJR_RE",
    "outputId": "4434c396-fd5e-4c13-e6bf-2bf23cf7fcef"
   },
   "outputs": [
    {
     "name": "stdout",
     "output_type": "stream",
     "text": [
      "Training Skipgram model with 50 dimensions\n",
      "Epoch 1/10\n",
      "94556/94556 [==============================] - 3s 32us/step - loss: 7.5069\n",
      "Epoch 2/10\n",
      "94556/94556 [==============================] - 3s 28us/step - loss: 6.6804\n",
      "Epoch 3/10\n",
      "94556/94556 [==============================] - 3s 28us/step - loss: 6.2760\n",
      "Epoch 4/10\n",
      "94556/94556 [==============================] - 3s 28us/step - loss: 6.0971\n",
      "Epoch 5/10\n",
      "94556/94556 [==============================] - 3s 28us/step - loss: 5.9929\n",
      "Epoch 6/10\n",
      "94556/94556 [==============================] - 3s 28us/step - loss: 5.9221\n",
      "Epoch 7/10\n",
      "94556/94556 [==============================] - 3s 28us/step - loss: 5.8703\n",
      "Epoch 8/10\n",
      "94556/94556 [==============================] - 3s 30us/step - loss: 5.8297\n",
      "Epoch 9/10\n",
      "94556/94556 [==============================] - 3s 31us/step - loss: 5.7964\n",
      "Epoch 10/10\n",
      "94556/94556 [==============================] - 3s 31us/step - loss: 5.7681\n",
      "Training Skipgram model with 150 dimensions\n",
      "Epoch 1/10\n",
      "94556/94556 [==============================] - 3s 35us/step - loss: 7.4353\n",
      "Epoch 2/10\n",
      "94556/94556 [==============================] - 3s 30us/step - loss: 6.5320\n",
      "Epoch 3/10\n",
      "94556/94556 [==============================] - 3s 30us/step - loss: 6.1695\n",
      "Epoch 4/10\n",
      "94556/94556 [==============================] - 3s 30us/step - loss: 6.0067\n",
      "Epoch 5/10\n",
      "94556/94556 [==============================] - 3s 30us/step - loss: 5.9082\n",
      "Epoch 6/10\n",
      "94556/94556 [==============================] - 3s 30us/step - loss: 5.8396\n",
      "Epoch 7/10\n",
      "94556/94556 [==============================] - 3s 30us/step - loss: 5.7870\n",
      "Epoch 8/10\n",
      "94556/94556 [==============================] - 3s 30us/step - loss: 5.7446\n",
      "Epoch 9/10\n",
      "94556/94556 [==============================] - 3s 30us/step - loss: 5.7089\n",
      "Epoch 10/10\n",
      "94556/94556 [==============================] - 3s 30us/step - loss: 5.6782\n",
      "Training Skipgram model with 300 dimensions\n",
      "Epoch 1/10\n",
      "94556/94556 [==============================] - 4s 37us/step - loss: 7.3826\n",
      "Epoch 2/10\n",
      "94556/94556 [==============================] - 3s 34us/step - loss: 6.4511\n",
      "Epoch 3/10\n",
      "94556/94556 [==============================] - 3s 34us/step - loss: 6.1099\n",
      "Epoch 4/10\n",
      "94556/94556 [==============================] - 3s 34us/step - loss: 5.9520\n",
      "Epoch 5/10\n",
      "94556/94556 [==============================] - 3s 34us/step - loss: 5.8542\n",
      "Epoch 6/10\n",
      "94556/94556 [==============================] - 3s 34us/step - loss: 5.7846\n",
      "Epoch 7/10\n",
      "94556/94556 [==============================] - 3s 34us/step - loss: 5.7313\n",
      "Epoch 8/10\n",
      "94556/94556 [==============================] - 3s 34us/step - loss: 5.6875\n",
      "Epoch 9/10\n",
      "94556/94556 [==============================] - 3s 34us/step - loss: 5.6498\n",
      "Epoch 10/10\n",
      "94556/94556 [==============================] - 3s 34us/step - loss: 5.6160\n"
     ]
    }
   ],
   "source": [
    "#train Skipgram model\n",
    "model = 0\n",
    "for skipgram in skipgramsModels:\n",
    "  print(\"Training Skipgram model with\",dims[model], \"dimensions\")\n",
    "  skipgram.fit(x, y, batch_size=128, epochs=10, verbose=1)\n",
    "  model+=1"
   ]
  },
  {
   "cell_type": "code",
   "execution_count": null,
   "metadata": {
    "colab": {
     "base_uri": "https://localhost:8080/",
     "height": 746
    },
    "colab_type": "code",
    "id": "XPkUgungis3G",
    "outputId": "3eca1b2f-bc2d-4f37-a55e-85038ff85b84"
   },
   "outputs": [
    {
     "name": "stdout",
     "output_type": "stream",
     "text": [
      "Skipgram model with dimensions: 50\n",
      "Analogy function:\n",
      "Queen = king - man + woman\n",
      "Is the same as:\n",
      "0 = king - man + woman - queen\n",
      "The expected value is 0\n",
      "Obteined value using skipgram with 50 dimensions: 0.993225119735628\n",
      "Just an example: woman and man should be not so far\n",
      "Distance: 0.42461832344486006\n",
      "queen => duchess, dormouse, king, gryphon, march, hatter, white, caterpillar, other, rabbit\n",
      "king => gryphon, hatter, duchess, queen, caterpillar, dormouse, march, hare, cat, white\n",
      "rabbit => dormouse, white, queen, same, other, by, thing, duchess, first, gloves\n",
      "\n",
      "\n",
      "Skipgram model with dimensions: 150\n",
      "Analogy function:\n",
      "Queen = king - man + woman\n",
      "Is the same as:\n",
      "0 = king - man + woman - queen\n",
      "The expected value is 0\n",
      "Obteined value using skipgram with 150 dimensions: 1.192174857581819\n",
      "Just an example: woman and man should be not so far\n",
      "Distance: 0.483390223006814\n",
      "queen => duchess, dormouse, king, gryphon, hatter, caterpillar, first, footman, who, words\n",
      "king => duchess, gryphon, caterpillar, hatter, dormouse, queen, dodo, cat, footman, pigeon\n",
      "rabbit => white, queen, duchess, dormouse, thing, words, whole, same, who, kid\n",
      "\n",
      "\n",
      "Skipgram model with dimensions: 300\n",
      "Analogy function:\n",
      "Queen = king - man + woman\n",
      "Is the same as:\n",
      "0 = king - man + woman - queen\n",
      "The expected value is 0\n",
      "Obteined value using skipgram with 300 dimensions: 1.2174991188827096\n",
      "Just an example: woman and man should be not so far\n",
      "Distance: 0.5609051624629628\n",
      "queen => duchess, king, dormouse, gryphon, hatter, caterpillar, who, footman, first, words\n",
      "king => duchess, caterpillar, gryphon, hatter, dormouse, queen, dodo, cat, footman, pigeon\n",
      "rabbit => duchess, queen, kid, gloves, dormouse, white, gryphon, king, same, hatter\n",
      "\n",
      "\n"
     ]
    }
   ],
   "source": [
    "  # using the word2vec model make two tables\n",
    "  # one to map from words to index and the other one from index to word\n",
    "word2idx = tokenizer.word_index\n",
    "idx2word = {v: k for k, v in word2idx.items()}\n",
    "\n",
    "#Implement your own analogy function\n",
    "model = 0\n",
    "for skipgram in skipgramsModels:\n",
    "  print(\"Skipgram model with dimensions:\",dims[model])\n",
    "  weights = skipgram.get_weights()[0]\n",
    "  weights.shape\n",
    "  \n",
    "  idx2emb = {}\n",
    "  for word in word2idx.keys():\n",
    "    wid = word2idx[word]\n",
    "    vec_in = np.zeros(V)\n",
    "    #one-hot encoding\n",
    "    vec_in[wid] = 1\n",
    "    vec_emb = np.dot(vec_in, weights).reshape(1,-1)\n",
    "    #print(vec_emb)\n",
    "    idx2emb[wid] = vec_emb\n",
    "\n",
    "  def embed2Words(word1,word2):\n",
    "    \"\"\"function to calculate the cosine distance of two words\"\"\"\n",
    "    # look the index of the word up\n",
    "    wid1 = word2idx[word1]\n",
    "    wid2 = word2idx[word2]\n",
    "    # extract the embedding for the word\n",
    "    source_emb = idx2emb[wid1]\n",
    "    target_emb = idx2emb[wid2]\n",
    "    # calculate the distance\n",
    "    distance = cosine_distances(source_emb,target_emb)  \n",
    "    return distance.item()\n",
    "\n",
    "  # see similarities between queen and king\n",
    "  # queen = embed('king')-embed('man')+embed('woman')\n",
    "  # 0 = embed('king')-embed('man')+embed('woman')-embed('queen')\n",
    "  val1 = embed2Words('king','man')\n",
    "  val2 = embed2Words('woman','queen')\n",
    "  print(\"Analogy function:\")\n",
    "  print(\"Queen = king - man + woman\")\n",
    "  print(\"Is the same as:\")\n",
    "  print(\"0 = king - man + woman - queen\")\n",
    "  print(\"The expected value is 0\")\n",
    "  print(\"Obteined value using skipgram with\", dims[model],\"dimensions:\",val1+val2)\n",
    "\n",
    "  # just an example: woman and man should be not so far\n",
    "  print(\"Just an example: woman and man should be not so far\")\n",
    "  print(\"Distance:\",embed2Words('woman','man'))\n",
    "  def similar_words(word):\n",
    "    \"\"\"function that given a certain word returns us the 10 most similar words\"\"\"\n",
    "    # find the index of the word\n",
    "    wid = word2idx[word]\n",
    "    # get its embedding\n",
    "    source_emb = idx2emb[wid]\n",
    "    distances = []\n",
    "    # iterate over all other words in the vocabulary\n",
    "    for i in range(1, V):\n",
    "        # if we are at the word itself: skip\n",
    "        if i == wid:\n",
    "            continue\n",
    "        # get the embedding for the target word\n",
    "        target_emb = idx2emb[i]\n",
    "        # calculate the distance between the two words\n",
    "        distances.append(((wid, i), cosine_distances(source_emb, target_emb)))\n",
    "    # sort the list of distances and keep the 10 first\n",
    "    sorted_distances = sorted(distances, key=operator.itemgetter(1))[0:10]\n",
    "    predictions = [idx2word[x[0][1]] for x in sorted_distances]\n",
    "    \n",
    "    # format the output\n",
    "    print(\"{:s} => {:s}\".format(word, \", \".join(predictions)))\n",
    "    return predictions\n",
    "    \n",
    "  predictions1 = similar_words(\"queen\")\n",
    "  predictions2 = similar_words(\"king\")\n",
    "  predictions3 = similar_words(\"rabbit\")\n",
    "  model +=1\n",
    "  print(\"\\n\")"
   ]
  },
  {
   "cell_type": "code",
   "execution_count": null,
   "metadata": {
    "colab": {
     "base_uri": "https://localhost:8080/",
     "height": 521
    },
    "colab_type": "code",
    "id": "dHRy7KrOwM7q",
    "outputId": "664da607-be0c-430e-c38d-2b83ccd528ab"
   },
   "outputs": [
    {
     "name": "stdout",
     "output_type": "stream",
     "text": [
      "Total words: 18 \tWord Embedding shapes: (18, 300)\n",
      "(18, 2)\n"
     ]
    },
    {
     "data": {
      "image/png": "[encoded data removed]",
      "text/plain": [
       "<Figure size 1008x576 with 1 Axes>"
      ]
     },
     "metadata": {
      "tags": []
     },
     "output_type": "display_data"
    }
   ],
   "source": [
    "import matplotlib.pyplot as plt\n",
    "\n",
    "#Visualization results trained word embeddings\n",
    "from sklearn.manifold import TSNE\n",
    "\n",
    "predictions = predictions1 + predictions2 + predictions3\n",
    "#remove duplicated words from the predictions list\n",
    "predictions = set(predictions)\n",
    "\n",
    "#put all the previous similar word into the same list\n",
    "words_ids = [word2id[w] for w in predictions]\n",
    "\n",
    "word_vectors = np.array([weights[idx] for idx in words_ids])\n",
    "print('Total words:', len(predictions), '\\tWord Embedding shapes:', word_vectors.shape)\n",
    "\n",
    "tsne = TSNE(n_components=2, random_state=0, n_iter=10000, perplexity=3)\n",
    "np.set_printoptions(suppress=True)\n",
    "T = tsne.fit_transform(word_vectors)\n",
    "print(T.shape)\n",
    "labels = predictions\n",
    "\n",
    "plt.figure(figsize=(14, 8))\n",
    "plt.scatter(T[:, 0], T[:, 1], c='steelblue', edgecolors='k')\n",
    "for label, x, y in zip(labels, T[:, 0], T[:, 1]):\n",
    "  plt.annotate(label, xy=(x, y), xytext=(-1, -12), textcoords='offset points')"
   ]
  },
  {
   "cell_type": "markdown",
   "metadata": {
    "colab_type": "text",
    "id": "gSNQsmd0tU3O"
   },
   "source": [
    "As we can see from the plot there some clusters (e.g. queen, duchess and king are close). The same holds for animals (e.g. dormhouse, caterpillar, dodo and pigeon)  "
   ]
  },
  {
   "cell_type": "markdown",
   "metadata": {
    "colab_type": "text",
    "id": "2jp6IZJPikyL"
   },
   "source": [
    "# CBOW"
   ]
  },
  {
   "cell_type": "code",
   "execution_count": null,
   "metadata": {
    "colab": {},
    "colab_type": "code",
    "id": "7Id-aH7MpVbk"
   },
   "outputs": [],
   "source": [
    "#prepare data for CBOW\n",
    "\n",
    "def generate_data_CBOW(corpus, window_size, vocab_size):\n",
    "  # the context are the words to the left and right (which is double the window size)\n",
    "  context_length = window_size*2\n",
    "  x = []\n",
    "  y = []\n",
    "  # iterate over all sentences\n",
    "  for sentence in corpus:\n",
    "      sentence_length = len(sentence)\n",
    "      for i, global_index in enumerate(sentence):\n",
    "        # set the boundaries for the context\n",
    "          context_words = []\n",
    "          label_word   = []            \n",
    "          start = i - window_size\n",
    "          end = i + window_size + 1\n",
    "          # extract the context words within the boundaries\n",
    "          context_words = [[sentence[j] for j in range(start, end) \n",
    "                                              if 0 <= j < sentence_length and j != i]]\n",
    "          # assign the label word its global index from the entire corpus\n",
    "          label_word = global_index\n",
    "          # add training pairs of padded context words ...\n",
    "          x.append(sequence.pad_sequences(context_words, maxlen=context_length))\n",
    "          # ... and a one hot representation of the word\n",
    "          y.append(np_utils.to_categorical(label_word, vocab_size))\n",
    "  return (np.array(x).reshape(-1, context_length), np.array(y))"
   ]
  },
  {
   "cell_type": "code",
   "execution_count": null,
   "metadata": {
    "colab": {},
    "colab_type": "code",
    "id": "Ls5abe-FqGfI"
   },
   "outputs": [],
   "source": [
    "#get x and y's for training data\n",
    "x,y = generate_data_CBOW(corpus,window_size,V)"
   ]
  },
  {
   "cell_type": "code",
   "execution_count": null,
   "metadata": {
    "colab": {
     "base_uri": "https://localhost:8080/",
     "height": 746
    },
    "colab_type": "code",
    "id": "2saEropJR_Qg",
    "outputId": "9bfc2e3c-51e2-45ff-a8d5-40044e6595e8"
   },
   "outputs": [
    {
     "name": "stdout",
     "output_type": "stream",
     "text": [
      "CBOW model with dimensions: 50\n",
      "_________________________________________________________________\n",
      "Layer (type)                 Output Shape              Param #   \n",
      "=================================================================\n",
      "embedding_13 (Embedding)     (None, 4, 50)             127850    \n",
      "_________________________________________________________________\n",
      "lambda_7 (Lambda)            (None, 50)                0         \n",
      "_________________________________________________________________\n",
      "dense_13 (Dense)             (None, 2557)              130407    \n",
      "=================================================================\n",
      "Total params: 258,257\n",
      "Trainable params: 258,257\n",
      "Non-trainable params: 0\n",
      "_________________________________________________________________\n",
      "CBOW model with dimensions: 150\n",
      "_________________________________________________________________\n",
      "Layer (type)                 Output Shape              Param #   \n",
      "=================================================================\n",
      "embedding_14 (Embedding)     (None, 4, 150)            383550    \n",
      "_________________________________________________________________\n",
      "lambda_8 (Lambda)            (None, 150)               0         \n",
      "_________________________________________________________________\n",
      "dense_14 (Dense)             (None, 2557)              386107    \n",
      "=================================================================\n",
      "Total params: 769,657\n",
      "Trainable params: 769,657\n",
      "Non-trainable params: 0\n",
      "_________________________________________________________________\n",
      "CBOW model with dimensions: 300\n",
      "_________________________________________________________________\n",
      "Layer (type)                 Output Shape              Param #   \n",
      "=================================================================\n",
      "embedding_15 (Embedding)     (None, 4, 300)            767100    \n",
      "_________________________________________________________________\n",
      "lambda_9 (Lambda)            (None, 300)               0         \n",
      "_________________________________________________________________\n",
      "dense_15 (Dense)             (None, 2557)              769657    \n",
      "=================================================================\n",
      "Total params: 1,536,757\n",
      "Trainable params: 1,536,757\n",
      "Non-trainable params: 0\n",
      "_________________________________________________________________\n"
     ]
    }
   ],
   "source": [
    "#create CBOW model\n",
    "cbowsModels = []\n",
    "for dim in dims:\n",
    "  print(\"CBOW model with dimensions:\",dim)\n",
    "  cbow = Sequential()\n",
    "  # we use an embedding layer: input size is defined by the size of vocabulary\n",
    "  # output size is equal to dim\n",
    "  cbow.add(Embedding(input_dim=V, output_dim=dim, input_length=window_size*2))\n",
    "  # now in the second layer, we sum up everything like in the paper\n",
    "  cbow.add(Lambda(lambda x: K.sum(x, axis=1), output_shape=(dim,)))\n",
    "  cbow.add(Dense(V, activation='softmax'))\n",
    "\n",
    "  #compile the model\n",
    "  cbow.compile(loss='categorical_crossentropy', optimizer='adadelta')\n",
    "\n",
    "  cbow.summary()\n",
    "  cbowsModels.append(cbow)"
   ]
  },
  {
   "cell_type": "code",
   "execution_count": null,
   "metadata": {
    "colab": {
     "base_uri": "https://localhost:8080/",
     "height": 1166
    },
    "colab_type": "code",
    "id": "Hx5aM2mqR_Qm",
    "outputId": "0a99fafb-e1e1-4621-9ac6-0e468d882bbb"
   },
   "outputs": [
    {
     "name": "stdout",
     "output_type": "stream",
     "text": [
      "Training CBOW model with 50 dimensions\n",
      "Epoch 1/10\n",
      "27165/27165 [==============================] - 1s 45us/step - loss: 7.3743\n",
      "Epoch 2/10\n",
      "27165/27165 [==============================] - 1s 32us/step - loss: 6.4409\n",
      "Epoch 3/10\n",
      "27165/27165 [==============================] - 1s 32us/step - loss: 6.1357\n",
      "Epoch 4/10\n",
      "27165/27165 [==============================] - 1s 32us/step - loss: 5.9734\n",
      "Epoch 5/10\n",
      "27165/27165 [==============================] - 1s 32us/step - loss: 5.8532\n",
      "Epoch 6/10\n",
      "27165/27165 [==============================] - 1s 32us/step - loss: 5.7529\n",
      "Epoch 7/10\n",
      "27165/27165 [==============================] - 1s 32us/step - loss: 5.6647\n",
      "Epoch 8/10\n",
      "27165/27165 [==============================] - 1s 33us/step - loss: 5.5851\n",
      "Epoch 9/10\n",
      "27165/27165 [==============================] - 1s 32us/step - loss: 5.5133\n",
      "Epoch 10/10\n",
      "27165/27165 [==============================] - 1s 33us/step - loss: 5.4475\n",
      "Training CBOW model with 150 dimensions\n",
      "Epoch 1/10\n",
      "27165/27165 [==============================] - 1s 51us/step - loss: 7.2269\n",
      "Epoch 2/10\n",
      "27165/27165 [==============================] - 1s 35us/step - loss: 6.2912\n",
      "Epoch 3/10\n",
      "27165/27165 [==============================] - 1s 33us/step - loss: 5.9875\n",
      "Epoch 4/10\n",
      " 5248/27165 [====>.........................] - ETA: 1s - loss: 5.8334"
     ]
    },
    {
     "name": "stderr",
     "output_type": "stream",
     "text": [
      "/usr/local/lib/python3.6/dist-packages/keras/callbacks.py:122: UserWarning: Method on_batch_end() is slow compared to the batch update (0.166961). Check your callbacks.\n",
      "  % delta_t_median)\n"
     ]
    },
    {
     "name": "stdout",
     "output_type": "stream",
     "text": [
      "27165/27165 [==============================] - 1s 38us/step - loss: 5.7948\n",
      "Epoch 5/10\n",
      "27165/27165 [==============================] - 1s 31us/step - loss: 5.6447\n",
      "Epoch 6/10\n",
      "27165/27165 [==============================] - 1s 31us/step - loss: 5.5195\n",
      "Epoch 7/10\n",
      "27165/27165 [==============================] - 1s 31us/step - loss: 5.4104\n",
      "Epoch 8/10\n",
      "27165/27165 [==============================] - 1s 31us/step - loss: 5.3132\n",
      "Epoch 9/10\n",
      "27165/27165 [==============================] - 1s 31us/step - loss: 5.2237\n",
      "Epoch 10/10\n",
      "27165/27165 [==============================] - 1s 31us/step - loss: 5.1427\n",
      "Training CBOW model with 300 dimensions\n",
      "Epoch 1/10\n",
      "27165/27165 [==============================] - 1s 52us/step - loss: 7.1149\n",
      "Epoch 2/10\n",
      "27165/27165 [==============================] - 1s 35us/step - loss: 6.1803\n",
      "Epoch 3/10\n",
      "27165/27165 [==============================] - 1s 35us/step - loss: 5.8569\n",
      "Epoch 4/10\n",
      "27165/27165 [==============================] - 1s 35us/step - loss: 5.6426\n",
      "Epoch 5/10\n",
      "27165/27165 [==============================] - 1s 35us/step - loss: 5.4779\n",
      "Epoch 6/10\n",
      "27165/27165 [==============================] - 1s 34us/step - loss: 5.3410\n",
      "Epoch 7/10\n",
      "27165/27165 [==============================] - 1s 35us/step - loss: 5.2216\n",
      "Epoch 8/10\n",
      "27165/27165 [==============================] - 1s 34us/step - loss: 5.1162\n",
      "Epoch 9/10\n",
      "27165/27165 [==============================] - 1s 35us/step - loss: 5.0191\n",
      "Epoch 10/10\n",
      "27165/27165 [==============================] - 1s 35us/step - loss: 4.9298\n"
     ]
    }
   ],
   "source": [
    "#train model\n",
    "model=0\n",
    "for cbow in cbowsModels:\n",
    "  print(\"Training CBOW model with\",dims[model], \"dimensions\")\n",
    "  cbow.fit(x, y, batch_size=128, epochs=10, verbose=1)\n",
    "  model+=1"
   ]
  },
  {
   "cell_type": "code",
   "execution_count": null,
   "metadata": {
    "colab": {
     "base_uri": "https://localhost:8080/",
     "height": 746
    },
    "colab_type": "code",
    "id": "LQeUoDA0ruy9",
    "outputId": "7d0e4bfd-1722-4f25-fa7b-3a87a299b45a"
   },
   "outputs": [
    {
     "name": "stdout",
     "output_type": "stream",
     "text": [
      "cbow model with dimensions: 50\n",
      "Analogy function:\n",
      "Queen = king - man + woman\n",
      "Is the same as:\n",
      "0 = king - man + woman - queen\n",
      "The expected value is 0\n",
      "Obteined value using cbow with 50 dimensions: 0.8069634321276149\n",
      "Just an example: woman and man should be not so far\n",
      "Distance: 0.6664461685070767\n",
      "queen => dormouse, duchess, gryphon, caterpillar, witness, dodo, hatter, footman, jury, words\n",
      "king => caterpillar, duchess, hatter, cat, dodo, dormouse, queen, gryphon, pigeon, witness\n",
      "rabbit => game, cook, baby, door, footman, words, dormouse, jury, queen, dodo\n",
      "\n",
      "\n",
      "cbow model with dimensions: 150\n",
      "Analogy function:\n",
      "Queen = king - man + woman\n",
      "Is the same as:\n",
      "0 = king - man + woman - queen\n",
      "The expected value is 0\n",
      "Obteined value using cbow with 150 dimensions: 1.2639826169162653\n",
      "Just an example: woman and man should be not so far\n",
      "Distance: 0.7532480556674412\n",
      "queen => duchess, caterpillar, dormouse, footman, dodo, king, pigeon, hatter, words, gryphon\n",
      "king => caterpillar, duchess, hatter, cat, dormouse, gryphon, dodo, pigeon, queen, youth\n",
      "rabbit => dormouse, footman, whole, duchess, queen, game, words, pigeon, dodo, hall\n",
      "\n",
      "\n",
      "cbow model with dimensions: 300\n",
      "Analogy function:\n",
      "Queen = king - man + woman\n",
      "Is the same as:\n",
      "0 = king - man + woman - queen\n",
      "The expected value is 0\n",
      "Obteined value using cbow with 300 dimensions: 1.43968924964374\n",
      "Just an example: woman and man should be not so far\n",
      "Distance: 0.7767002497737674\n",
      "queen => duchess, king, caterpillar, cat, footman, dormouse, words, hatter, pigeon, gryphon\n",
      "king => caterpillar, duchess, gryphon, hatter, dodo, dormouse, cat, pigeon, queen, footman\n",
      "rabbit => cook, duchess, queen, dormouse, pigeon, footman, baby, caterpillar, cat, dodo\n",
      "\n",
      "\n"
     ]
    }
   ],
   "source": [
    "  # using the word2vec model make two tables\n",
    "  # one to map from words to index and the other one from index to word\n",
    "word2idx = tokenizer.word_index\n",
    "idx2word = {v: k for k, v in word2idx.items()}\n",
    "\n",
    "#Implement your own analogy function\n",
    "model = 0\n",
    "for cbow in cbowsModels:\n",
    "  print(\"cbow model with dimensions:\",dims[model])\n",
    "  weights = cbow.get_weights()[0]\n",
    "  weights.shape\n",
    "  \n",
    "  idx2emb = {}\n",
    "  for word in word2idx.keys():\n",
    "    wid = word2idx[word]\n",
    "    vec_in = np.zeros(V)\n",
    "    #one-hot encoding\n",
    "    vec_in[wid] = 1\n",
    "    vec_emb = np.dot(vec_in, weights).reshape(1,-1)\n",
    "    #print(vec_emb)\n",
    "    idx2emb[wid] = vec_emb\n",
    "\n",
    "  def embed2Words(word1,word2):\n",
    "    \"\"\"function to calculate the cosine distance of two words\"\"\"\n",
    "    # look the index of the word up\n",
    "    wid1 = word2idx[word1]\n",
    "    wid2 = word2idx[word2]\n",
    "    # extract the embedding for the word\n",
    "    source_emb = idx2emb[wid1]\n",
    "    target_emb = idx2emb[wid2]\n",
    "    # calculate the distance\n",
    "    distance = cosine_distances(source_emb,target_emb)  \n",
    "    return distance.item()\n",
    "\n",
    "  # see similarities between queen and king\n",
    "  # queen = embed('king')-embed('man')+embed('woman')\n",
    "  # 0 = embed('king')-embed('man')+embed('woman')-embed('queen')\n",
    "  val1 = embed2Words('king','man')\n",
    "  val2 = embed2Words('woman','queen')\n",
    "  print(\"Analogy function:\")\n",
    "  print(\"Queen = king - man + woman\")\n",
    "  print(\"Is the same as:\")\n",
    "  print(\"0 = king - man + woman - queen\")\n",
    "  print(\"The expected value is 0\")\n",
    "  print(\"Obteined value using cbow with\", dims[model],\"dimensions:\",val1+val2)\n",
    "\n",
    "  # just an example: woman and man should be not so far\n",
    "  print(\"Just an example: woman and man should be not so far\")\n",
    "  print(\"Distance:\",embed2Words('woman','man'))\n",
    "  def similar_words(word):\n",
    "    \"\"\"function that given a certain word returns us the 10 most similar words\"\"\"\n",
    "    # find the index of the word\n",
    "    wid = word2idx[word]\n",
    "    # get its embedding\n",
    "    source_emb = idx2emb[wid]\n",
    "    distances = []\n",
    "    # iterate over all other words in the vocabulary\n",
    "    for i in range(1, V):\n",
    "        # if we are at the word itself: skip\n",
    "        if i == wid:\n",
    "            continue\n",
    "        # get the embedding for the target word\n",
    "        target_emb = idx2emb[i]\n",
    "        # calculate the distance between the two words\n",
    "        distances.append(((wid, i), cosine_distances(source_emb, target_emb)))\n",
    "    # sort the list of distances and keep the 10 first\n",
    "    sorted_distances = sorted(distances, key=operator.itemgetter(1))[0:10]\n",
    "    predictions = [idx2word[x[0][1]] for x in sorted_distances]\n",
    "    \n",
    "    # format the output\n",
    "    print(\"{:s} => {:s}\".format(word, \", \".join(predictions)))\n",
    "    return predictions\n",
    "    \n",
    "  predictions1 = similar_words(\"queen\")\n",
    "  predictions2 = similar_words(\"king\")\n",
    "  predictions3 = similar_words(\"rabbit\")\n",
    "  model +=1\n",
    "  print(\"\\n\")"
   ]
  },
  {
   "cell_type": "code",
   "execution_count": null,
   "metadata": {
    "colab": {
     "base_uri": "https://localhost:8080/",
     "height": 521
    },
    "colab_type": "code",
    "id": "9m88z1KGR_Rg",
    "outputId": "92631089-bf61-4662-eb43-4e96a4014dcf"
   },
   "outputs": [
    {
     "name": "stdout",
     "output_type": "stream",
     "text": [
      "Total words: 14 \tWord Embedding shapes: (14, 300)\n",
      "(14, 2)\n"
     ]
    },
    {
     "data": {
      "image/png": "[encoded data removed]",
      "text/plain": [
       "<Figure size 1008x576 with 1 Axes>"
      ]
     },
     "metadata": {
      "tags": []
     },
     "output_type": "display_data"
    }
   ],
   "source": [
    "import matplotlib.pyplot as plt\n",
    "\n",
    "#Visualization results trained word embeddings\n",
    "from sklearn.manifold import TSNE\n",
    "\n",
    "predictions = predictions1 + predictions2 + predictions3\n",
    "#remove duplicated words from the predictions list\n",
    "predictions = set(predictions)\n",
    "\n",
    "#put all the previous similar word into the same list\n",
    "words_ids = [word2id[w] for w in predictions]\n",
    "\n",
    "word_vectors = np.array([weights[idx] for idx in words_ids])\n",
    "print('Total words:', len(predictions), '\\tWord Embedding shapes:', word_vectors.shape)\n",
    "\n",
    "tsne = TSNE(n_components=2, random_state=0, n_iter=10000, perplexity=3)\n",
    "np.set_printoptions(suppress=True)\n",
    "T = tsne.fit_transform(word_vectors)\n",
    "print(T.shape)\n",
    "labels = predictions\n",
    "\n",
    "plt.figure(figsize=(14, 8))\n",
    "plt.scatter(T[:, 0], T[:, 1], c='steelblue', edgecolors='k')\n",
    "for label, x, y in zip(labels, T[:, 0], T[:, 1]):\n",
    "  plt.annotate(label, xy=(x, y), xytext=(-1, -12), textcoords='offset points')"
   ]
  },
  {
   "cell_type": "markdown",
   "metadata": {
    "colab_type": "text",
    "id": "hL9ichDKR_Rn"
   },
   "source": [
    "In this case we see some clusters as well, although their semantic meaning is less clear. For example we can see that animals are still clustered together, but caterpillar and cat are clustered togheter with the main characters. Interestngly, we notice that this time king and queen are well separated.   "
   ]
  },
  {
   "cell_type": "markdown",
   "metadata": {
    "colab_type": "text",
    "id": "uhgdDRihR_Rq"
   },
   "source": [
    "### Discussion of the advantages of CBOW and Skipgram, the advantages of negative sampling and drawbacks of CBOW and Skipgram"
   ]
  },
  {
   "cell_type": "markdown",
   "metadata": {
    "colab_type": "text",
    "id": "0PnpGM1uR_Rr"
   },
   "source": [
    "#### Advantages against other models \n",
    "\n",
    "According to the paper, their accuracy in semantics and syntax is outperforming the one of RNNLM and NNLM. This suggests that they are producing reasonable results without being too complex as models. Like stated in the paper: “because of much lower computational complexity, it is possible to compute very accurate high dimensional word vectors from a much larger data set”.\n",
    "\n",
    "A disadvantage of the models is the softmax function at the last layer. This slows down the process due to computational complexity. For this reason, negative sampling has been introduced. With negative sampling, each training sample only modifies a small percentage of the weights in the network instead of all of them. The idea is to turn the problem into a binary classification problem in which we predict 1 (in the case of skipgram) if the context and target word appear together and 0 if this is not the case. Doing this way, we do not need to compute the final softmax.\n",
    "\n",
    "#### Advantages and Disadvantages between each other \n",
    "What are the main advantages of CBOW and Skipgram?\n",
    "What are the main drawbacks of CBOW and Skipgram?\n",
    "\n",
    "1)On semantic level, the advantage of Skipgram is that it produces a much higher accuracy (according to the paper, page 8, table 5). In syntax this does not hold necessarily. \n",
    "\n",
    "2)According to Mikolov, Skipgram works well with small amount of data and is found to represent rare words well. This is their advantage towards CBOW. A possible explanation why this is the cause would be that in CBOW the vectors from the context words are averaged (or summed up in our case) before predicting the center word. In Skipgram there is no averaging of embedding vectors. It seems like the model can learn better representations for the rare words when their vectors are not averaged with the other context words in the process of making the predictions. (https://stats.stackexchange.com/questions/180548/why-is-skip-gram-better-for-infrequent-words-than-cbow) \n",
    "\n",
    "3)On the other hand, CBOW is faster and has better representations for more frequent words. This is due to the fact that by predicting from the context to one word only like in CBOW, we have less training data. Even if it has a higher dimensionality, the amount dominates the time consumption. (https://towardsdatascience.com/introduction-to-word-embedding-and-word2vec-652d0c2060fa) \n",
    "\n",
    "4)For Skipgram, you can create a lot more training instances from limited amount of data than in CBOW because you are taking pairs of the center word with every word in the context. More data usually makes learning work better. \n",
    "\n",
    "5)The CBOW model does not take into account the order of the words that stand in the context before or after it. Also when Skipgram is used to predict the words in its context, their order does not play a role. You can also see this property as an advantage because it makes the model more simple. \n",
    "\n",
    "\n",
    "\n",
    "\n",
    "\n"
   ]
  },
  {
   "cell_type": "markdown",
   "metadata": {
    "colab_type": "text",
    "id": "cxGMMWpx08_S"
   },
   "source": [
    "Contribution of authors:\n",
    "We evenly split the workload for the assignment. "
   ]
  }
 ],
 "metadata": {
  "accelerator": "GPU",
  "colab": {
   "collapsed_sections": [],
   "name": "Assignment_1.ipynb",
   "provenance": [],
   "version": "0.3.2"
  },
  "kernelspec": {
   "display_name": "Python 3",
   "language": "python",
   "name": "python3"
  },
  "language_info": {
   "codemirror_mode": {
    "name": "ipython",
    "version": 3
   },
   "file_extension": ".py",
   "mimetype": "text/x-python",
   "name": "python",
   "nbconvert_exporter": "python",
   "pygments_lexer": "ipython3",
   "version": "3.6.8"
  }
 },
 "nbformat": 4,
 "nbformat_minor": 2
}
